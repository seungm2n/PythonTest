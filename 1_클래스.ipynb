{
  "nbformat": 4,
  "nbformat_minor": 0,
  "metadata": {
    "colab": {
      "provenance": [],
      "authorship_tag": "ABX9TyNU3JVUK5XgP7L4NhI3KO3U",
      "include_colab_link": true
    },
    "kernelspec": {
      "name": "python3",
      "display_name": "Python 3"
    },
    "language_info": {
      "name": "python"
    }
  },
  "cells": [
    {
      "cell_type": "markdown",
      "metadata": {
        "id": "view-in-github",
        "colab_type": "text"
      },
      "source": [
        "<a href=\"https://colab.research.google.com/github/seungm2n/PythonTest/blob/main/1_%ED%81%B4%EB%9E%98%EC%8A%A4.ipynb\" target=\"_parent\"><img src=\"https://colab.research.google.com/assets/colab-badge.svg\" alt=\"Open In Colab\"/></a>"
      ]
    },
    {
      "cell_type": "markdown",
      "source": [
        "###목표\n",
        "1. 클래스 리뷰"
      ],
      "metadata": {
        "id": "oPx_LfFoOqOd"
      }
    },
    {
      "cell_type": "markdown",
      "source": [
        "####__init__(self)\n",
        "+ 생성자, 클래스 인스턴스가 생성될 때 호출됨\n",
        "+ self인자는 항상 첫번째에 오며 자기 자신을 가리킴\n",
        "+ 이름이 꼭 self일 필요는 없지만, 관례적으로 self로 사용\n",
        "\n",
        "+ 생성자에서 해당 클래스가 다루는 데이터를 정의\n",
        "  - 이 데이터를 멤버변수(member variable) 또는 속성(attribute)라고 함"
      ],
      "metadata": {
        "id": "CgejczGMPPMc"
      }
    },
    {
      "cell_type": "markdown",
      "source": [
        "#### **self**\n",
        "- 파이썬의 method는 항상 첫번째 인자로 self를 전달\n",
        "- self는 현재 해당 메서든가 호출되는 객체 자신을 가리킴\n",
        "- C++/C#, Java의 this에 해당\n",
        "- 이름이 self일 필요는 없으나, 위치는 항상 맨 처음의 parameter이며 관례적으로 self로 사용"
      ],
      "metadata": {
        "id": "IIUp_FweQY1k"
      }
    },
    {
      "cell_type": "markdown",
      "source": [
        "#### **special method**\n",
        "- __로 시작하고 __로 끝나는 특수 함수\n",
        "- 오버라이딩이 가능한 함수 목록은 아래 링크에서 참조\n",
        "  - https://docs.python.org/3/reference/datamodel.html"
      ],
      "metadata": {
        "id": "8JkOaV69RTuA"
      }
    },
    {
      "cell_type": "markdown",
      "source": [
        "### Python Class\n",
        "  - Python은 OOP 패러다임이 구현된 언어이다."
      ],
      "metadata": {
        "id": "2V2DG_PuSUNO"
      }
    },
    {
      "cell_type": "markdown",
      "source": [
        "# Notebook이라는 사물을 클래스로 정의합니다."
      ],
      "metadata": {
        "id": "UccnOMLESnrs"
      }
    },
    {
      "cell_type": "code",
      "source": [
        "# Notebook이라는 사물을 클래스로 정의\n",
        "class Notebook():\n",
        "  def __init__(self, manufacture, model, cpu, ram, ssd):\n",
        "      self.manufacture = manufacture\n",
        "      self.model = model\n",
        "      self.cpu = cpu\n",
        "      self.ram = ram\n",
        "      self.ssd = ssd"
      ],
      "metadata": {
        "id": "zrxvvrZxStcL"
      },
      "execution_count": null,
      "outputs": []
    },
    {
      "cell_type": "code",
      "source": [
        "# 클래스의 생성자(constructor)를 불러와 봄\n",
        "notebook = Notebook(\"Apple\",\"MacBook Pro 13\",\"M2\", 24, 2048)\n",
        "notebook.model"
      ],
      "metadata": {
        "colab": {
          "base_uri": "https://localhost:8080/",
          "height": 35
        },
        "id": "ydBaIfw4T7zw",
        "outputId": "eb20c621-3691-4320-c1ae-d281592754bd"
      },
      "execution_count": null,
      "outputs": [
        {
          "output_type": "execute_result",
          "data": {
            "text/plain": [
              "'MacBook Pro 13'"
            ],
            "application/vnd.google.colaboratory.intrinsic+json": {
              "type": "string"
            }
          },
          "metadata": {},
          "execution_count": 3
        }
      ]
    },
    {
      "cell_type": "code",
      "source": [
        "# 해당 노트북의 모델을 출력해주는 함수를 구현하시오.\n",
        "# 해당 노트북의 운영체제가 UNIX 계열 운영체제인지 아닌지 확인하는 함수를 구현하시오.\n",
        "class Notebook():\n",
        "  def __init__(self, manufacture, model, cpu, ram, ssd):\n",
        "      self.manufacture = manufacture\n",
        "      self.model = model\n",
        "      self.cpu = cpu\n",
        "      self.ram = ram\n",
        "      self.ssd = ssd\n",
        "\n",
        "  def print_model(self):\n",
        "   print(f\"This Notebook is {self.model} model.\")\n",
        "\n",
        "nb = Notebook(\"LG\", \"Gram 17\", \"intel i7\", 16, 512)\n",
        "nb2 = Notebook(\"Apple\", \"MacBook Pro 16\", \"Apple M1 max\", 64, 2048)\n",
        "nb.print_model()\n",
        "nb2.print_model()"
      ],
      "metadata": {
        "colab": {
          "base_uri": "https://localhost:8080/"
        },
        "id": "Nzb2MlYBr-1e",
        "outputId": "c593f814-1af8-4fd7-d57e-6a3946bc8ef3"
      },
      "execution_count": null,
      "outputs": [
        {
          "output_type": "stream",
          "name": "stdout",
          "text": [
            "This Notebook is Gram 17 model.\n",
            "This Notebook is MacBook pro 16 model.\n"
          ]
        }
      ]
    },
    {
      "cell_type": "code",
      "source": [
        "# 해당 노트북의 모델을 출력해주는 함수를 구현하시오.\n",
        "# 해당 노트북의 운영체제가 UNIX 계열 운영체제인지 아닌지 확인하는 함수를 구현하시오.\n",
        "class Notebook():\n",
        "  def __init__(self, manufacture, model, cpu, ram, ssd, os):\n",
        "      self.manufacture = manufacture\n",
        "      self.model = model\n",
        "      self.cpu = cpu\n",
        "      self.ram = ram\n",
        "      self.ssd = ssd\n",
        "      self.os = os\n",
        "\n",
        "  ## to-do ##\n",
        "  def is_UNIX(self):\n",
        "    UNIX = [\"macOS\", \"Ubuntu\", \"IOS\", \"Android\"]\n",
        "    if self.os in UNIX:\n",
        "        return True\n",
        "    else:\n",
        "        return False\n",
        "\n",
        "  def print_model(self):\n",
        "   print(f\"This Notebook is {self.model} model.\")\n",
        "\n",
        "nb = Notebook(\"LG\", \"Gram 17\", \"intel i7\", 16, 512, \"Windows10\")\n",
        "nb2 = Notebook(\"Apple\", \"MacBook Pro 16\", \"Apple M1 max\", 64, 2048, \"macOS\")\n",
        "nb.print_model()\n",
        "print(nb.is_UNIX())\n",
        "nb2.print_model()\n",
        "print(nb2.is_UNIX())"
      ],
      "metadata": {
        "colab": {
          "base_uri": "https://localhost:8080/"
        },
        "id": "ToqFbpYeudeh",
        "outputId": "f2a1a15e-13a8-499e-c572-5678f1c29504"
      },
      "execution_count": null,
      "outputs": [
        {
          "output_type": "stream",
          "name": "stdout",
          "text": [
            "This Notebook is Gram 17 model.\n",
            "False\n",
            "This Notebook is MacBook Pro 16 model.\n",
            "True\n"
          ]
        }
      ]
    },
    {
      "cell_type": "markdown",
      "source": [
        "### 클래스 상속 (Class inheritance)\n",
        "\n",
        "- Notebook들은 제조사마다 다른 모델이 있습니다.\n",
        "- 해당 모델들은 Notebook이지만, 모델마다 다른 특징을 가지고 있습니다.\n",
        "- 노트북의 개념을 그대로 이어받아, 모델마다 다른 개념을 Class로 구현해 보시오."
      ],
      "metadata": {
        "id": "BtE2mXNe2aV9"
      }
    },
    {
      "cell_type": "code",
      "source": [
        "# notebook class를 상속받아서 새로운 MacBook class를 정의\n",
        "class MacBook(Notebook):\n",
        "  def __init__(self, model, release_date, display_size, cpu, ram, ssd, os):\n",
        "    self.model = model\n",
        "    self.release_date = release_date\n",
        "    self.display_size = display_size\n",
        "    self.cpu = cpu\n",
        "    self.ram = ram\n",
        "    self.ssd = ssd\n",
        "    self.os = os\n",
        "\n",
        "macbook = MacBook(\"MacBook Pro\", \"2022\", \"16\", \"M1 Max\", 64, 1024, \"macOS\")\n",
        "macbook.print_model()\n",
        "print(macbook.is_UNIX())"
      ],
      "metadata": {
        "colab": {
          "base_uri": "https://localhost:8080/"
        },
        "id": "wgLazhxJ21HR",
        "outputId": "6385d749-8b50-4ebd-e6cd-305722cf5e23"
      },
      "execution_count": null,
      "outputs": [
        {
          "output_type": "stream",
          "name": "stdout",
          "text": [
            "This Notebook is MacBook Pro model.\n",
            "True\n"
          ]
        }
      ]
    },
    {
      "cell_type": "code",
      "source": [
        "# notebook class 상속받아서 새로운 Lenovo class를 정의\n",
        "# yoga\n",
        "class Lenovo(Notebook):\n",
        "  def __init__(self, model,yoga, display_size, cpu, ram, ssd, os=\"macOS\"):\n",
        "    self.model = model\n",
        "    self.yoga = yoga\n",
        "    self.display_size = display_size\n",
        "    self.cpu = cpu\n",
        "    self.ram = ram\n",
        "    self.ssd = ssd\n",
        "    self.os = os\n",
        "\n",
        "lenovo = Lenovo(\"yoga slim 7 pro\", \"14 Gen 5\", 15, \"intel i7\", 16, 2048)\n",
        "lenovo.print_model()\n",
        "print(lenovo.is_UNIX())"
      ],
      "metadata": {
        "colab": {
          "base_uri": "https://localhost:8080/"
        },
        "id": "sN6uq92P4Wl3",
        "outputId": "2fde6910-bc64-4f96-867e-321203983ab8"
      },
      "execution_count": null,
      "outputs": [
        {
          "output_type": "stream",
          "name": "stdout",
          "text": [
            "This Notebook is yoga slim 7 pro model.\n",
            "True\n"
          ]
        }
      ]
    }
  ]
}