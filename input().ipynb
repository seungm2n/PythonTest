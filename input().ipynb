{
  "nbformat": 4,
  "nbformat_minor": 0,
  "metadata": {
    "colab": {
      "provenance": [],
      "authorship_tag": "ABX9TyOvDo7GPq/SjcmnjO84K44k",
      "include_colab_link": true
    },
    "kernelspec": {
      "name": "python3",
      "display_name": "Python 3"
    },
    "language_info": {
      "name": "python"
    }
  },
  "cells": [
    {
      "cell_type": "markdown",
      "metadata": {
        "id": "view-in-github",
        "colab_type": "text"
      },
      "source": [
        "<a href=\"https://colab.research.google.com/github/seungm2n/PythonTest/blob/main/input().ipynb\" target=\"_parent\"><img src=\"https://colab.research.google.com/assets/colab-badge.svg\" alt=\"Open In Colab\"/></a>"
      ]
    },
    {
      "cell_type": "code",
      "execution_count": null,
      "metadata": {
        "colab": {
          "base_uri": "https://localhost:8080/"
        },
        "id": "FLZt_cEoQKtC",
        "outputId": "94d524b3-50da-4eab-de10-5bf0019632d4"
      },
      "outputs": [
        {
          "output_type": "stream",
          "name": "stdout",
          "text": [
            "Hello Ezen!\n",
            "Hello Ezen!\n"
          ]
        }
      ],
      "source": [
        "data = input()\n",
        "print(data)"
      ]
    },
    {
      "cell_type": "code",
      "source": [
        "name = input(\"당신의 이름은?\")\n",
        "print(\"입력된 값 : \", name)"
      ],
      "metadata": {
        "colab": {
          "base_uri": "https://localhost:8080/"
        },
        "id": "tdkUVFFOQYdE",
        "outputId": "863becb4-6c04-4eac-ade8-fe2498a1be73"
      },
      "execution_count": null,
      "outputs": [
        {
          "output_type": "stream",
          "name": "stdout",
          "text": [
            "당신의 이름은??ezen\n",
            "입력된 값 :  ezen\n"
          ]
        }
      ]
    },
    {
      "cell_type": "code",
      "source": [
        "age = int(input(\"당신의 나이는?\"))\n",
        "print(\"당신의 나이 : \", age)\n",
        "print(\"15년 뒤 당신의 나이 : \", age + 15)"
      ],
      "metadata": {
        "colab": {
          "base_uri": "https://localhost:8080/"
        },
        "id": "7hJHq6arQmt0",
        "outputId": "0fc3478d-d61f-4527-ed58-cd18f117635b"
      },
      "execution_count": null,
      "outputs": [
        {
          "output_type": "stream",
          "name": "stdout",
          "text": [
            "당신의 나이는?20\n",
            "당신의 나이 :  20\n",
            "15년 뒤 당신의 나이 :  35\n"
          ]
        }
      ]
    },
    {
      "cell_type": "code",
      "source": [],
      "metadata": {
        "id": "EIl-w8kmREKR"
      },
      "execution_count": null,
      "outputs": []
    },
    {
      "cell_type": "markdown",
      "source": [
        "- 사용자가 입력을 받는 두 자리 이상 숫자 N에 대해서, 십의 자리 숫자를 출력하는 코드를 작성하시오.\n",
        "- 예를 들어, 123456789055456794이 입력으로 들어오면 출력 결과는 9\n",
        "- 87984564898945665174이 입력으로 들어오면 출력 결과는 7\n",
        "- 51이 입력으로 들어오면 출력 결과는 5"
      ],
      "metadata": {
        "id": "aFuWHQQbxUtQ"
      }
    },
    {
      "cell_type": "code",
      "source": [
        "num = int(input(\"두 자리 이상의 숫자를 입력하시오. >\"))\n",
        "print((num % 100) // 10)"
      ],
      "metadata": {
        "colab": {
          "base_uri": "https://localhost:8080/"
        },
        "id": "G8fIsM6vxqAE",
        "outputId": "65ecfe1a-2a37-4120-9e21-a9ba9246bb2a"
      },
      "execution_count": null,
      "outputs": [
        {
          "output_type": "stream",
          "name": "stdout",
          "text": [
            "두 자리 이상의 숫자를 입력하시오. >12351\n",
            "5\n"
          ]
        }
      ]
    },
    {
      "cell_type": "code",
      "source": [],
      "metadata": {
        "id": "TpyM02U60EtF"
      },
      "execution_count": null,
      "outputs": []
    }
  ]
}